{
 "cells": [
  {
   "cell_type": "markdown",
   "metadata": {},
   "source": [
    "# Project VINF FIIT\n",
    "#### Creating a dictionary of pairs for the purposes of Named Entity Recognizing: Wiki page - type"
   ]
  },
  {
   "cell_type": "markdown",
   "metadata": {},
   "source": [
    "Regular expresion to extract articles\n",
    "or\n",
    "by this approach of using SAX XML parser<"
   ]
  },
  {
   "cell_type": "markdown",
   "metadata": {},
   "source": [
    "## 1. Part : Downloading Wikipedia articles\n"
   ]
  },
  {
   "cell_type": "code",
   "execution_count": 3,
   "metadata": {},
   "outputs": [],
   "source": [
    "import requests\n",
    "from bs4 import BeautifulSoup\n",
    "import os\n",
    "import re"
   ]
  },
  {
   "cell_type": "code",
   "execution_count": 4,
   "metadata": {},
   "outputs": [
    {
     "data": {
      "text/plain": [
       "'<!DOCTYPE html '"
      ]
     },
     "execution_count": 4,
     "metadata": {},
     "output_type": "execute_result"
    }
   ],
   "source": [
    "base_url = 'https://dumps.wikimedia.org/enwiki/20201001/'\n",
    "base_html = requests.get(base_url).text\n",
    "base_html[:15]"
   ]
  },
  {
   "cell_type": "code",
   "execution_count": 5,
   "metadata": {},
   "outputs": [
    {
     "data": {
      "text/plain": [
       "<li class=\"file\"><a href=\"/enwiki/20201001/enwiki-20201001-pages-articles-multistream.xml.bz2\">enwiki-20201001-pages-articles-multistream.xml.bz2</a> 17.5 GB</li>"
      ]
     },
     "execution_count": 5,
     "metadata": {},
     "output_type": "execute_result"
    }
   ],
   "source": [
    "soup_dump = BeautifulSoup(base_html, 'html.parser')\n",
    "soup_dump.find_all('li', {'class': 'file'}, limit = 10)[0]"
   ]
  },
  {
   "cell_type": "code",
   "execution_count": 6,
   "metadata": {
    "scrolled": true
   },
   "outputs": [
    {
     "data": {
      "text/plain": [
       "[('enwiki-20201001-pages-articles-multistream.xml.bz2', ['17.5', 'GB']),\n",
       " ('enwiki-20201001-pages-articles-multistream-index.txt.bz2', ['215.8', 'MB']),\n",
       " ('enwiki-20201001-pages-articles-multistream1.xml-p1p41242.bz2',\n",
       "  ['231.7', 'MB']),\n",
       " ('enwiki-20201001-pages-articles-multistream-index1.txt-p1p41242.bz2',\n",
       "  ['222', 'KB']),\n",
       " ('enwiki-20201001-pages-articles-multistream2.xml-p41243p151573.bz2',\n",
       "  ['313.2', 'MB'])]"
      ]
     },
     "execution_count": 6,
     "metadata": {},
     "output_type": "execute_result"
    }
   ],
   "source": [
    "files = []\n",
    "for file in soup_dump.find_all('li', {'class': 'file'}):\n",
    "    text = file.text\n",
    "    if 'pages-articles' in text:\n",
    "        files.append((text.split()[0], text.split()[1:]))\n",
    "files[:5]"
   ]
  },
  {
   "cell_type": "code",
   "execution_count": 7,
   "metadata": {
    "scrolled": true
   },
   "outputs": [
    {
     "data": {
      "text/plain": [
       "['enwiki-20201001-pages-articles1.xml-p1p41242.bz2',\n",
       " 'enwiki-20201001-pages-articles2.xml-p41243p151573.bz2',\n",
       " 'enwiki-20201001-pages-articles3.xml-p151574p311329.bz2',\n",
       " 'enwiki-20201001-pages-articles4.xml-p311330p558391.bz2',\n",
       " 'enwiki-20201001-pages-articles5.xml-p558392p958045.bz2']"
      ]
     },
     "execution_count": 7,
     "metadata": {},
     "output_type": "execute_result"
    }
   ],
   "source": [
    "files_to_download = [file[0] for file in files if re.search('pages-articles\\d{1,2}.xml-p',file[0])]\n",
    "files_to_download[:5]"
   ]
  },
  {
   "cell_type": "markdown",
   "metadata": {},
   "source": [
    "Using keras method get_file for downloading wanted files"
   ]
  },
  {
   "cell_type": "code",
   "execution_count": 70,
   "metadata": {},
   "outputs": [],
   "source": [
    "import sys\n",
    "from keras.utils import get_file\n",
    "directory = '/home/xminarikd/.keras/datasets/'"
   ]
  },
  {
   "cell_type": "code",
   "execution_count": 74,
   "metadata": {},
   "outputs": [
    {
     "name": "stdout",
     "output_type": "stream",
     "text": [
      "Downloading\n",
      "Downloading data from https://dumps.wikimedia.org/enwiki/20201001/enwiki-20201001-pages-articles1.xml-p1p41242.bz2\n",
      "242098176/242093817 [==============================] - 330s 1us/step\n",
      "Downloading\n",
      "Downloading data from https://dumps.wikimedia.org/enwiki/20201001/enwiki-20201001-pages-articles2.xml-p41243p151573.bz2\n",
      "324780032/324777650 [==============================] - 445s 1us/step\n",
      "Downloading\n",
      "Downloading data from https://dumps.wikimedia.org/enwiki/20201001/enwiki-20201001-pages-articles3.xml-p151574p311329.bz2\n",
      "352124928/352119906 [==============================] - 313s 1us/step\n",
      "Downloading\n",
      "Downloading data from https://dumps.wikimedia.org/enwiki/20201001/enwiki-20201001-pages-articles4.xml-p311330p558391.bz2\n",
      "389988352/389987127 [==============================] - 372s 1us/step\n",
      "Downloading\n",
      "Downloading data from https://dumps.wikimedia.org/enwiki/20201001/enwiki-20201001-pages-articles5.xml-p558392p958045.bz2\n",
      "420814848/420806959 [==============================] - 471s 1us/step\n",
      "Downloading\n",
      "Downloading data from https://dumps.wikimedia.org/enwiki/20201001/enwiki-20201001-pages-articles6.xml-p958046p1483661.bz2\n",
      "450748416/450745879 [==============================] - 553s 1us/step\n",
      "Downloading\n",
      "Downloading data from https://dumps.wikimedia.org/enwiki/20201001/enwiki-20201001-pages-articles7.xml-p1483662p2134111.bz2\n",
      "462512128/462504094 [==============================] - 385s 1us/step\n",
      "Downloading\n",
      "Downloading data from https://dumps.wikimedia.org/enwiki/20201001/enwiki-20201001-pages-articles8.xml-p2134112p2936260.bz2\n",
      "471654400/471652241 [==============================] - 344s 1us/step\n",
      "Downloading\n",
      "Downloading data from https://dumps.wikimedia.org/enwiki/20201001/enwiki-20201001-pages-articles9.xml-p2936261p4045402.bz2\n",
      "512147456/512145263 [==============================] - 485s 1us/step\n",
      "Downloading\n",
      "Downloading data from https://dumps.wikimedia.org/enwiki/20201001/enwiki-20201001-pages-articles10.xml-p4045403p5399366.bz2\n",
      "502456320/502449820 [==============================] - 357s 1us/step\n",
      "Downloading\n",
      "Downloading data from https://dumps.wikimedia.org/enwiki/20201001/enwiki-20201001-pages-articles11.xml-p5399367p6899366.bz2\n",
      "486776832/486770345 [==============================] - 393s 1us/step\n",
      "Downloading\n",
      "Downloading data from https://dumps.wikimedia.org/enwiki/20201001/enwiki-20201001-pages-articles11.xml-p6899367p7054859.bz2\n",
      "46866432/46859027 [==============================] - 69s 1us/step\n",
      "Downloading\n",
      "Downloading data from https://dumps.wikimedia.org/enwiki/20201001/enwiki-20201001-pages-articles12.xml-p7054860p8554859.bz2\n",
      "404406272/404401272 [==============================] - 624s 2us/step\n",
      "Downloading\n",
      "Downloading data from https://dumps.wikimedia.org/enwiki/20201001/enwiki-20201001-pages-articles12.xml-p8554860p9172788.bz2\n",
      "164061184/164054426 [==============================] - 131s 1us/step\n",
      "Downloading\n",
      "Downloading data from https://dumps.wikimedia.org/enwiki/20201001/enwiki-20201001-pages-articles13.xml-p9172789p10672788.bz2\n",
      "330563584/330555755 [==============================] - 278s 1us/step\n",
      "Downloading\n",
      "Downloading data from https://dumps.wikimedia.org/enwiki/20201001/enwiki-20201001-pages-articles13.xml-p10672789p11659682.bz2\n",
      "229384192/229381099 [==============================] - 205s 1us/step\n",
      "Downloading\n",
      "Downloading data from https://dumps.wikimedia.org/enwiki/20201001/enwiki-20201001-pages-articles14.xml-p11659683p13159682.bz2\n",
      "393928704/393922075 [==============================] - 348s 1us/step\n",
      "Downloading\n",
      "Downloading data from https://dumps.wikimedia.org/enwiki/20201001/enwiki-20201001-pages-articles14.xml-p13159683p14324602.bz2\n",
      "273661952/273655291 [==============================] - 271s 1us/step\n",
      "Downloading\n",
      "Downloading data from https://dumps.wikimedia.org/enwiki/20201001/enwiki-20201001-pages-articles15.xml-p14324603p15824602.bz2\n",
      "355713024/355706040 [==============================] - 263s 1us/step\n",
      "Downloading\n",
      "Downloading data from https://dumps.wikimedia.org/enwiki/20201001/enwiki-20201001-pages-articles15.xml-p15824603p17324602.bz2\n",
      "307257344/307257124 [==============================] - 317s 1us/step\n",
      "Downloading\n",
      "Downloading data from https://dumps.wikimedia.org/enwiki/20201001/enwiki-20201001-pages-articles15.xml-p17324603p17460152.bz2\n",
      "28254208/28249729 [==============================] - 111s 4us/step\n",
      "Downloading\n",
      "Downloading data from https://dumps.wikimedia.org/enwiki/20201001/enwiki-20201001-pages-articles16.xml-p17460153p18960152.bz2\n",
      "336871424/336865577 [==============================] - 308s 1us/step\n",
      "Downloading\n",
      "Downloading data from https://dumps.wikimedia.org/enwiki/20201001/enwiki-20201001-pages-articles16.xml-p18960153p20460152.bz2\n",
      "314253312/314246115 [==============================] - 205s 1us/step\n",
      "Downloading\n",
      "Downloading data from https://dumps.wikimedia.org/enwiki/20201001/enwiki-20201001-pages-articles16.xml-p20460153p20570392.bz2\n",
      "22953984/22949874 [==============================] - 35s 2us/step\n",
      "Downloading\n",
      "Downloading data from https://dumps.wikimedia.org/enwiki/20201001/enwiki-20201001-pages-articles17.xml-p20570393p22070392.bz2\n",
      "351920128/351918604 [==============================] - 228s 1us/step\n",
      "Downloading\n",
      "Downloading data from https://dumps.wikimedia.org/enwiki/20201001/enwiki-20201001-pages-articles17.xml-p22070393p23570392.bz2\n",
      "362340352/362336803 [==============================] - 221s 1us/step\n",
      "Downloading\n",
      "Downloading data from https://dumps.wikimedia.org/enwiki/20201001/enwiki-20201001-pages-articles17.xml-p23570393p23716197.bz2\n",
      "40402944/40402767 [==============================] - 27s 1us/step\n",
      "Downloading\n",
      "Downloading data from https://dumps.wikimedia.org/enwiki/20201001/enwiki-20201001-pages-articles18.xml-p23716198p25216197.bz2\n",
      "375750656/375742870 [==============================] - 295s 1us/step\n",
      "Downloading\n",
      "Downloading data from https://dumps.wikimedia.org/enwiki/20201001/enwiki-20201001-pages-articles18.xml-p25216198p26716197.bz2\n",
      "347947008/347946542 [==============================] - 251s 1us/step\n",
      "Downloading\n",
      "Downloading data from https://dumps.wikimedia.org/enwiki/20201001/enwiki-20201001-pages-articles18.xml-p26716198p27121850.bz2\n",
      "87384064/87377512 [==============================] - 119s 1us/step\n",
      "Downloading\n",
      "Downloading data from https://dumps.wikimedia.org/enwiki/20201001/enwiki-20201001-pages-articles19.xml-p27121851p28621850.bz2\n",
      "337952768/337946504 [==============================] - 229s 1us/step\n",
      "Downloading\n",
      "Downloading data from https://dumps.wikimedia.org/enwiki/20201001/enwiki-20201001-pages-articles19.xml-p28621851p30121850.bz2\n",
      "297205760/297201089 [==============================] - 213s 1us/step\n",
      "Downloading\n",
      "Downloading data from https://dumps.wikimedia.org/enwiki/20201001/enwiki-20201001-pages-articles19.xml-p30121851p31308442.bz2\n",
      "281026560/281023102 [==============================] - 159s 1us/step\n",
      "Downloading\n",
      "Downloading data from https://dumps.wikimedia.org/enwiki/20201001/enwiki-20201001-pages-articles20.xml-p31308443p32808442.bz2\n",
      "383336448/383334873 [==============================] - 241s 1us/step\n",
      "Downloading\n",
      "Downloading data from https://dumps.wikimedia.org/enwiki/20201001/enwiki-20201001-pages-articles20.xml-p32808443p34308442.bz2\n",
      "349700096/349699080 [==============================] - 394s 1us/step\n",
      "Downloading\n",
      "Downloading data from https://dumps.wikimedia.org/enwiki/20201001/enwiki-20201001-pages-articles20.xml-p34308443p35522432.bz2\n",
      "259284992/259278058 [==============================] - 153s 1us/step\n",
      "Downloading\n",
      "Downloading data from https://dumps.wikimedia.org/enwiki/20201001/enwiki-20201001-pages-articles21.xml-p35522433p37022432.bz2\n",
      "351600640/351597304 [==============================] - 515s 1us/step\n",
      "Downloading\n",
      "Downloading data from https://dumps.wikimedia.org/enwiki/20201001/enwiki-20201001-pages-articles21.xml-p37022433p38522432.bz2\n",
      "340942848/340936052 [==============================] - 502s 1us/step\n",
      "Downloading\n",
      "Downloading data from https://dumps.wikimedia.org/enwiki/20201001/enwiki-20201001-pages-articles21.xml-p38522433p39996245.bz2\n",
      "345997312/345996096 [==============================] - 232s 1us/step\n",
      "Downloading\n",
      "Downloading data from https://dumps.wikimedia.org/enwiki/20201001/enwiki-20201001-pages-articles22.xml-p39996246p41496245.bz2\n",
      "340557824/340555294 [==============================] - 231s 1us/step\n",
      "Downloading\n",
      "Downloading data from https://dumps.wikimedia.org/enwiki/20201001/enwiki-20201001-pages-articles22.xml-p41496246p42996245.bz2\n",
      "351027200/351022715 [==============================] - 304s 1us/step\n",
      "Downloading\n",
      "Downloading data from https://dumps.wikimedia.org/enwiki/20201001/enwiki-20201001-pages-articles22.xml-p42996246p44496245.bz2\n",
      "354238464/354232150 [==============================] - 347s 1us/step\n",
      "Downloading\n",
      "Downloading data from https://dumps.wikimedia.org/enwiki/20201001/enwiki-20201001-pages-articles22.xml-p44496246p44788941.bz2\n",
      "55885824/55884326 [==============================] - 60s 1us/step\n",
      "Downloading\n",
      "Downloading data from https://dumps.wikimedia.org/enwiki/20201001/enwiki-20201001-pages-articles23.xml-p44788942p46288941.bz2\n",
      "228384768/228383839 [==============================] - 217s 1us/step\n",
      "Downloading\n",
      "Downloading data from https://dumps.wikimedia.org/enwiki/20201001/enwiki-20201001-pages-articles23.xml-p46288942p47788941.bz2\n",
      "362102784/362097862 [==============================] - 626s 2us/step\n",
      "Downloading\n",
      "Downloading data from https://dumps.wikimedia.org/enwiki/20201001/enwiki-20201001-pages-articles23.xml-p47788942p49288941.bz2\n",
      "304455680/304454625 [==============================] - 328s 1us/step\n",
      "Downloading\n",
      "Downloading data from https://dumps.wikimedia.org/enwiki/20201001/enwiki-20201001-pages-articles23.xml-p49288942p50564553.bz2\n",
      "235069440/235065016 [==============================] - 175s 1us/step\n",
      "Downloading\n",
      "Downloading data from https://dumps.wikimedia.org/enwiki/20201001/enwiki-20201001-pages-articles24.xml-p50564554p52064553.bz2\n",
      "322166784/322159926 [==============================] - 269s 1us/step\n",
      "Downloading\n",
      "Downloading data from https://dumps.wikimedia.org/enwiki/20201001/enwiki-20201001-pages-articles24.xml-p52064554p53564553.bz2\n",
      "322420736/322418062 [==============================] - 255s 1us/step\n",
      "Downloading\n",
      "Downloading data from https://dumps.wikimedia.org/enwiki/20201001/enwiki-20201001-pages-articles24.xml-p53564554p55064553.bz2\n",
      "306626560/306624664 [==============================] - 192s 1us/step\n",
      "Downloading\n",
      "Downloading data from https://dumps.wikimedia.org/enwiki/20201001/enwiki-20201001-pages-articles24.xml-p55064554p56564553.bz2\n",
      "321986560/321985394 [==============================] - 189s 1us/step\n",
      "Downloading\n",
      "Downloading data from https://dumps.wikimedia.org/enwiki/20201001/enwiki-20201001-pages-articles24.xml-p56564554p57025655.bz2\n",
      "101703680/101699893 [==============================] - 63s 1us/step\n",
      "Downloading\n",
      "Downloading data from https://dumps.wikimedia.org/enwiki/20201001/enwiki-20201001-pages-articles25.xml-p57025656p58525655.bz2\n",
      "335503360/335498693 [==============================] - 193s 1us/step\n",
      "Downloading\n",
      "Downloading data from https://dumps.wikimedia.org/enwiki/20201001/enwiki-20201001-pages-articles25.xml-p58525656p60025655.bz2\n",
      "296157184/296156960 [==============================] - 233s 1us/step\n",
      "Downloading\n",
      "Downloading data from https://dumps.wikimedia.org/enwiki/20201001/enwiki-20201001-pages-articles25.xml-p60025656p61525655.bz2\n",
      "329154560/329146942 [==============================] - 217s 1us/step\n",
      "Downloading\n",
      "Downloading data from https://dumps.wikimedia.org/enwiki/20201001/enwiki-20201001-pages-articles25.xml-p61525656p62585850.bz2\n",
      "231440384/231434326 [==============================] - 145s 1us/step\n",
      "Downloading\n",
      "Downloading data from https://dumps.wikimedia.org/enwiki/20201001/enwiki-20201001-pages-articles26.xml-p62585851p63975909.bz2\n",
      "344973312/344965297 [==============================] - 321s 1us/step\n",
      "Downloading\n",
      "Downloading data from https://dumps.wikimedia.org/enwiki/20201001/enwiki-20201001-pages-articles27.xml-p63975910p65475424.bz2\n",
      "310239232/310232346 [==============================] - 275s 1us/step\n"
     ]
    }
   ],
   "source": [
    "data_paths = []\n",
    "file_info = []\n",
    "\n",
    "for file in files_to_download:\n",
    "    path = directory + file\n",
    "    \n",
    "    if not os.path.exists(directory):\n",
    "        print('neexistuje')\n",
    "    # downaload only when file dont exist\n",
    "    if not os.path.exists(directory + file):\n",
    "        print('Downloading')\n",
    "        # If not, download the file\n",
    "        data_paths.append(get_file(file, base_url + file))\n",
    "        # Find the file size in MB\n",
    "        file_size = os.stat(path).st_size / 1e6\n",
    "        \n",
    "        # Find the number of articles\n",
    "        file_articles = int(file.split('p')[-1].split('.')[-2]) - int(file.split('p')[-2])\n",
    "        file_info.append((file, file_size, file_articles))\n",
    "        \n",
    "    # when file already exist\n",
    "    else:\n",
    "        data_paths.append(path)\n",
    "        file_size = os.stat(path).st_size / 1e6\n",
    "        \n",
    "        file_number = int(file.split('p')[-1].split('.')[-2]) - int(file.split('p')[-2])\n",
    "        file_info.append((file.split('-')[-1], file_size, file_number))"
   ]
  },
  {
   "cell_type": "code",
   "execution_count": 76,
   "metadata": {},
   "outputs": [
    {
     "data": {
      "text/plain": [
       "[('enwiki-20201001-pages-articles9.xml-p2936261p4045402.bz2',\n",
       "  512.145263,\n",
       "  1109141),\n",
       " ('enwiki-20201001-pages-articles10.xml-p4045403p5399366.bz2',\n",
       "  502.44982,\n",
       "  1353963),\n",
       " ('enwiki-20201001-pages-articles11.xml-p5399367p6899366.bz2',\n",
       "  486.770345,\n",
       "  1499999),\n",
       " ('enwiki-20201001-pages-articles8.xml-p2134112p2936260.bz2',\n",
       "  471.652241,\n",
       "  802148),\n",
       " ('enwiki-20201001-pages-articles7.xml-p1483662p2134111.bz2',\n",
       "  462.504094,\n",
       "  650449)]"
      ]
     },
     "execution_count": 76,
     "metadata": {},
     "output_type": "execute_result"
    }
   ],
   "source": [
    "sorted(file_info, key = lambda x: x[1], reverse = True)[:5]"
   ]
  },
  {
   "cell_type": "markdown",
   "metadata": {},
   "source": [
    "## 2. Part Parsing data"
   ]
  },
  {
   "cell_type": "code",
   "execution_count": 8,
   "metadata": {},
   "outputs": [],
   "source": [
    "import subprocess\n",
    "import xml.sax\n",
    "import regex\n",
    "import pandas as pd"
   ]
  },
  {
   "cell_type": "code",
   "execution_count": 9,
   "metadata": {},
   "outputs": [],
   "source": [
    "#Get Infobox and Infobox type from article text\n",
    "\n",
    "#source: https://regex101.com/\n",
    "exp_infobox = '(?=\\{Infobox)(\\{([^{}]|(?1))*\\})'\n",
    "exp_inf_type = '(?<=Infobox)(.*?)(?=(\\||\\n|<!-|<--))'\n",
    "\n",
    "#doplnit mozno osetrenie redirect\n",
    "def getInfType(text):\n",
    "    infobox = regex.search(exp_infobox, text).group() if regex.search(exp_infobox, text) is not None else None\n",
    "    if infobox is not None:\n",
    "        return regex.search(exp_inf_type, infobox).group().strip() if regex.search(exp_inf_type, infobox) is not None else None"
   ]
  },
  {
   "cell_type": "code",
   "execution_count": 10,
   "metadata": {},
   "outputs": [],
   "source": [
    "#docs: https://docs.python.org/3.8/library/xml.sax.handler.html\n",
    "class ContentHandler(xml.sax.handler.ContentHandler):\n",
    "    def __init__(self):\n",
    "        xml.sax.handler.ContentHandler.__init__(self)\n",
    "        self._buf = None\n",
    "        self._parts = {}\n",
    "        self._last_tag = None\n",
    "        self.output = []\n",
    "\n",
    "    def characters(self, content):\n",
    "        if self._last_tag:\n",
    "            self._buf.append(content)\n",
    "\n",
    "    def startElement(self, name, attrs):\n",
    "        if name == 'page':\n",
    "            self._parts = {}\n",
    "        if name in ('title', 'text'):\n",
    "            self._last_tag = name\n",
    "            self._buf = []\n",
    "\n",
    "    def endElement(self, name):\n",
    "        if name == self._last_tag:\n",
    "            self._parts[name] = ''.join(self._buf)\n",
    "        \n",
    "        #whole article\n",
    "        if name == 'page':\n",
    "            self.output.append((self._parts['title'], getInfType(self._parts['text']) , self._parts['text']))\n",
    "            #self.output.append((self._parts['title'], getInfType(self._parts['text'])))"
   ]
  },
  {
   "cell_type": "code",
   "execution_count": 19,
   "metadata": {
    "scrolled": true
   },
   "outputs": [
    {
     "name": "stdout",
     "output_type": "stream",
     "text": [
      "David Stagg\n",
      "Amaranthus mantegazzianus\n",
      "Amaranthus quitensis\n",
      "KTXT\n",
      "Maud Queen of Norway\n",
      "Milligram per litre\n",
      "Utica Psychiatric Center\n",
      "Wikipedia:Articles for deletion/Studiomuscle\n",
      "Olean Wholesale Grocery\n",
      "Queen Tiye\n",
      "Queen Hatshepsut\n",
      "Clibanarii\n"
     ]
    }
   ],
   "source": [
    "test_data_path = '/home/xminarikd/.keras/datasets/enwiki-20201001-pages-articles9.xml-p2936261p4045402.bz2'\n",
    "handler = ContentHandler()\n",
    "\n",
    "parser = xml.sax.make_parser()\n",
    "parser.setContentHandler(handler)\n",
    "\n",
    "for line in subprocess.Popen(['bzcat'], \n",
    "                         stdin = open(test_data_path), \n",
    "                         stdout = subprocess.PIPE).stdout:\n",
    "    parser.feed(line)\n",
    "    \n",
    "    # get only some results\n",
    "    if len(handler.output) > 15000:\n",
    "        break\n",
    "        \n",
    "for i, x in enumerate(handler.output):\n",
    "    print(x[0])\n",
    "    if i > 10:\n",
    "        break\n",
    "\n",
    "#print(handler.output[10][0])\n",
    "#print(regex.search(exp_inf_type, infobox).group().strip())"
   ]
  },
  {
   "cell_type": "code",
   "execution_count": null,
   "metadata": {},
   "outputs": [],
   "source": []
  },
  {
   "cell_type": "code",
   "execution_count": null,
   "metadata": {},
   "outputs": [],
   "source": []
  },
  {
   "cell_type": "markdown",
   "metadata": {},
   "source": [
    "### Test and data searching area"
   ]
  },
  {
   "cell_type": "code",
   "execution_count": 13,
   "metadata": {},
   "outputs": [],
   "source": [
    "import pandas as pd\n",
    "import numpy as np\n",
    "import matplotlib as plt\n",
    "import seaborn"
   ]
  },
  {
   "cell_type": "code",
   "execution_count": 15,
   "metadata": {},
   "outputs": [
    {
     "name": "stdout",
     "output_type": "stream",
     "text": [
      "0 <==> b'<mediawiki xmlns=\"http://www.mediawiki.org/xml/export-0.10/\" xmlns:xsi=\"http://www.w3.org/2001/XMLSchema-instance\" xsi:schemaLocation=\"http://www.mediawiki.org/xml/export-0.10/ http://www.mediawiki.org/xml/export-0.10.xsd\" version=\"0.10\" xml:lang=\"en\">\\n'\n",
      "1 <==> b'  <siteinfo>\\n'\n",
      "2 <==> b'    <sitename>Wikipedia</sitename>\\n'\n",
      "3 <==> b'    <dbname>enwiki</dbname>\\n'\n",
      "4 <==> b'    <base>https://en.wikipedia.org/wiki/Main_Page</base>\\n'\n",
      "5 <==> b'    <generator>MediaWiki 1.36.0-wmf.10</generator>\\n'\n",
      "6 <==> b'    <case>first-letter</case>\\n'\n",
      "7 <==> b'    <namespaces>\\n'\n",
      "8 <==> b'      <namespace key=\"-2\" case=\"first-letter\">Media</namespace>\\n'\n",
      "9 <==> b'      <namespace key=\"-1\" case=\"first-letter\">Special</namespace>\\n'\n",
      "10 <==> b'      <namespace key=\"0\" case=\"first-letter\" />\\n'\n",
      "11 <==> b'      <namespace key=\"1\" case=\"first-letter\">Talk</namespace>\\n'\n",
      "12 <==> b'      <namespace key=\"2\" case=\"first-letter\">User</namespace>\\n'\n",
      "13 <==> b'      <namespace key=\"3\" case=\"first-letter\">User talk</namespace>\\n'\n",
      "14 <==> b'      <namespace key=\"4\" case=\"first-letter\">Wikipedia</namespace>\\n'\n",
      "15 <==> b'      <namespace key=\"5\" case=\"first-letter\">Wikipedia talk</namespace>\\n'\n",
      "16 <==> b'      <namespace key=\"6\" case=\"first-letter\">File</namespace>\\n'\n",
      "17 <==> b'      <namespace key=\"7\" case=\"first-letter\">File talk</namespace>\\n'\n",
      "18 <==> b'      <namespace key=\"8\" case=\"first-letter\">MediaWiki</namespace>\\n'\n",
      "19 <==> b'      <namespace key=\"9\" case=\"first-letter\">MediaWiki talk</namespace>\\n'\n",
      "20 <==> b'      <namespace key=\"10\" case=\"first-letter\">Template</namespace>\\n'\n",
      "21 <==> b'      <namespace key=\"11\" case=\"first-letter\">Template talk</namespace>\\n'\n",
      "22 <==> b'      <namespace key=\"12\" case=\"first-letter\">Help</namespace>\\n'\n",
      "23 <==> b'      <namespace key=\"13\" case=\"first-letter\">Help talk</namespace>\\n'\n",
      "24 <==> b'      <namespace key=\"14\" case=\"first-letter\">Category</namespace>\\n'\n",
      "25 <==> b'      <namespace key=\"15\" case=\"first-letter\">Category talk</namespace>\\n'\n",
      "26 <==> b'      <namespace key=\"100\" case=\"first-letter\">Portal</namespace>\\n'\n",
      "27 <==> b'      <namespace key=\"101\" case=\"first-letter\">Portal talk</namespace>\\n'\n",
      "28 <==> b'      <namespace key=\"108\" case=\"first-letter\">Book</namespace>\\n'\n",
      "29 <==> b'      <namespace key=\"109\" case=\"first-letter\">Book talk</namespace>\\n'\n",
      "30 <==> b'      <namespace key=\"118\" case=\"first-letter\">Draft</namespace>\\n'\n",
      "31 <==> b'      <namespace key=\"119\" case=\"first-letter\">Draft talk</namespace>\\n'\n",
      "32 <==> b'      <namespace key=\"446\" case=\"first-letter\">Education Program</namespace>\\n'\n",
      "33 <==> b'      <namespace key=\"447\" case=\"first-letter\">Education Program talk</namespace>\\n'\n",
      "34 <==> b'      <namespace key=\"710\" case=\"first-letter\">TimedText</namespace>\\n'\n",
      "35 <==> b'      <namespace key=\"711\" case=\"first-letter\">TimedText talk</namespace>\\n'\n",
      "36 <==> b'      <namespace key=\"828\" case=\"first-letter\">Module</namespace>\\n'\n",
      "37 <==> b'      <namespace key=\"829\" case=\"first-letter\">Module talk</namespace>\\n'\n",
      "38 <==> b'      <namespace key=\"2300\" case=\"first-letter\">Gadget</namespace>\\n'\n",
      "39 <==> b'      <namespace key=\"2301\" case=\"first-letter\">Gadget talk</namespace>\\n'\n",
      "40 <==> b'      <namespace key=\"2302\" case=\"case-sensitive\">Gadget definition</namespace>\\n'\n",
      "41 <==> b'      <namespace key=\"2303\" case=\"case-sensitive\">Gadget definition talk</namespace>\\n'\n",
      "42 <==> b'    </namespaces>\\n'\n",
      "43 <==> b'  </siteinfo>\\n'\n",
      "44 <==> b'  <page>\\n'\n",
      "45 <==> b'    <title>David Stagg</title>\\n'\n",
      "46 <==> b'    <ns>0</ns>\\n'\n",
      "47 <==> b'    <id>2936265</id>\\n'\n",
      "48 <==> b'    <revision>\\n'\n",
      "49 <==> b'      <id>976695836</id>\\n'\n",
      "50 <==> b'      <parentid>942490144</parentid>\\n'\n",
      "51 <==> b'      <timestamp>2020-09-04T12:52:41Z</timestamp>\\n'\n"
     ]
    }
   ],
   "source": [
    "for i, line in enumerate(subprocess.Popen(['bzcat'], \n",
    "                              stdin = open(test_data_path), \n",
    "                              stdout = subprocess.PIPE).stdout):\n",
    "    print(i,'<==>', line)\n",
    "    if i > 50:\n",
    "        break"
   ]
  },
  {
   "cell_type": "code",
   "execution_count": 20,
   "metadata": {},
   "outputs": [
    {
     "data": {
      "text/html": [
       "<div>\n",
       "<style scoped>\n",
       "    .dataframe tbody tr th:only-of-type {\n",
       "        vertical-align: middle;\n",
       "    }\n",
       "\n",
       "    .dataframe tbody tr th {\n",
       "        vertical-align: top;\n",
       "    }\n",
       "\n",
       "    .dataframe thead th {\n",
       "        text-align: right;\n",
       "    }\n",
       "</style>\n",
       "<table border=\"1\" class=\"dataframe\">\n",
       "  <thead>\n",
       "    <tr style=\"text-align: right;\">\n",
       "      <th></th>\n",
       "      <th>0</th>\n",
       "      <th>1</th>\n",
       "      <th>2</th>\n",
       "    </tr>\n",
       "  </thead>\n",
       "  <tbody>\n",
       "    <tr>\n",
       "      <th>0</th>\n",
       "      <td>David Stagg</td>\n",
       "      <td>rugby league biography</td>\n",
       "      <td>{{short description|Australian rugby league fo...</td>\n",
       "    </tr>\n",
       "    <tr>\n",
       "      <th>1</th>\n",
       "      <td>Amaranthus mantegazzianus</td>\n",
       "      <td>None</td>\n",
       "      <td>#REDIRECT [[Amaranthus caudatus]]\\n\\n{{R from ...</td>\n",
       "    </tr>\n",
       "    <tr>\n",
       "      <th>2</th>\n",
       "      <td>Amaranthus quitensis</td>\n",
       "      <td>None</td>\n",
       "      <td>#redirect [[Amaranthus hybridus]] {{R from tax...</td>\n",
       "    </tr>\n",
       "    <tr>\n",
       "      <th>3</th>\n",
       "      <td>KTXT</td>\n",
       "      <td>None</td>\n",
       "      <td>'''KTXT''' may refer to:\\n\\n* [[KTXT-FM]], a r...</td>\n",
       "    </tr>\n",
       "    <tr>\n",
       "      <th>4</th>\n",
       "      <td>Maud Queen of Norway</td>\n",
       "      <td>None</td>\n",
       "      <td>#REDIRECT [[Maud of Wales]]</td>\n",
       "    </tr>\n",
       "    <tr>\n",
       "      <th>...</th>\n",
       "      <td>...</td>\n",
       "      <td>...</td>\n",
       "      <td>...</td>\n",
       "    </tr>\n",
       "    <tr>\n",
       "      <th>14996</th>\n",
       "      <td>Folies-Bergère</td>\n",
       "      <td>None</td>\n",
       "      <td>#REDIRECT [[Folies Bergère]]</td>\n",
       "    </tr>\n",
       "    <tr>\n",
       "      <th>14997</th>\n",
       "      <td>Location Efficient Mortgage</td>\n",
       "      <td>None</td>\n",
       "      <td>{{Update|article|inaccurate=y|date=July 2011}}...</td>\n",
       "    </tr>\n",
       "    <tr>\n",
       "      <th>14998</th>\n",
       "      <td>Liane de Pougy</td>\n",
       "      <td>person</td>\n",
       "      <td>{{short description|French courtesan, dancer a...</td>\n",
       "    </tr>\n",
       "    <tr>\n",
       "      <th>14999</th>\n",
       "      <td>Unfabulous and more: Emma Roberts</td>\n",
       "      <td>None</td>\n",
       "      <td>#REDIRECT [[Unfabulous and More]] {{R from oth...</td>\n",
       "    </tr>\n",
       "    <tr>\n",
       "      <th>15000</th>\n",
       "      <td>Bench table</td>\n",
       "      <td>None</td>\n",
       "      <td>A '''bench table''' ({{lang-fr|banc|links=no}}...</td>\n",
       "    </tr>\n",
       "  </tbody>\n",
       "</table>\n",
       "<p>15001 rows × 3 columns</p>\n",
       "</div>"
      ],
      "text/plain": [
       "                                       0                       1  \\\n",
       "0                            David Stagg  rugby league biography   \n",
       "1              Amaranthus mantegazzianus                    None   \n",
       "2                   Amaranthus quitensis                    None   \n",
       "3                                   KTXT                    None   \n",
       "4                   Maud Queen of Norway                    None   \n",
       "...                                  ...                     ...   \n",
       "14996                     Folies-Bergère                    None   \n",
       "14997        Location Efficient Mortgage                    None   \n",
       "14998                     Liane de Pougy                  person   \n",
       "14999  Unfabulous and more: Emma Roberts                    None   \n",
       "15000                        Bench table                    None   \n",
       "\n",
       "                                                       2  \n",
       "0      {{short description|Australian rugby league fo...  \n",
       "1      #REDIRECT [[Amaranthus caudatus]]\\n\\n{{R from ...  \n",
       "2      #redirect [[Amaranthus hybridus]] {{R from tax...  \n",
       "3      '''KTXT''' may refer to:\\n\\n* [[KTXT-FM]], a r...  \n",
       "4                            #REDIRECT [[Maud of Wales]]  \n",
       "...                                                  ...  \n",
       "14996                       #REDIRECT [[Folies Bergère]]  \n",
       "14997  {{Update|article|inaccurate=y|date=July 2011}}...  \n",
       "14998  {{short description|French courtesan, dancer a...  \n",
       "14999  #REDIRECT [[Unfabulous and More]] {{R from oth...  \n",
       "15000  A '''bench table''' ({{lang-fr|banc|links=no}}...  \n",
       "\n",
       "[15001 rows x 3 columns]"
      ]
     },
     "execution_count": 20,
     "metadata": {},
     "output_type": "execute_result"
    }
   ],
   "source": [
    "df = pd.DataFrame(handler.output)\n",
    "df"
   ]
  },
  {
   "cell_type": "code",
   "execution_count": 21,
   "metadata": {
    "scrolled": false
   },
   "outputs": [
    {
     "data": {
      "text/plain": [
       "array(['rugby league biography', None, 'NRHP', 'person',\n",
       "       'medical condition (new)', 'Italian comune', 'sports season',\n",
       "       'NFL player', 'school', 'character', 'officeholder', 'comic',\n",
       "       'UK place', 'song', 'military unit', 'medical person', 'bridge',\n",
       "       'Basketball club', 'civilian attack', 'Criminal organization',\n",
       "       'film', 'river', 'musical artist', 'settlement', 'monastery',\n",
       "       'software', 'valley', 'Officeholder', 'Historic building',\n",
       "       'webcomic', 'company', 'philosopher', 'basketball club',\n",
       "       'SCOTUS case', 'comics creator', 'RPG', 'Korean name', 'cricketer',\n",
       "       'building', 'LCS', 'tunnel', 'album', 'football biography',\n",
       "       'NVC community', 'artist', 'prepared food', 'Australian place',\n",
       "       'cell', 'television station', 'baseball biography',\n",
       "       'military person', 'soap character', 'medical condition',\n",
       "       'military conflict', 'venue', 'peer', 'radio station',\n",
       "       'Football biography', 'clergy', 'university',\n",
       "       'national basketball team', 'islands', 'scientist', 'ancient site',\n",
       "       'video game', 'Swiss town', 'German location', 'Locomotive',\n",
       "       'hospital', 'comics character', 'military award', 'street',\n",
       "       'UK station', 'cycling race', 'organization', 'mountain',\n",
       "       'Christian leader', 'Aircraft Begin', 'Historic Site',\n",
       "       'French commune', 'weapon', 'newspaper', 'candidate', 'Union',\n",
       "       'criminal', 'locomotive', 'beverage', 'golf facility', 'clan',\n",
       "       'professional wrestler', 'isotope', 'treaty', 'election',\n",
       "       'basketball biography', 'park', 'mountain range', 'Congressman',\n",
       "       'book', 'short story', 'Newspaper', 'food', 'website', 'athlete',\n",
       "       'color', 'Convention', 'Sports league', 'political party',\n",
       "       'airport', 'concert', 'lake', 'New Zealand suburbs', 'muscle',\n",
       "       'coat of arms', 'Senator', 'AFL biography', 'writer',\n",
       "       'body of water', 'LDS biography', 'ice hockey player',\n",
       "       'OS version', 'television episode', 'SCC', 'comedian', 'LDS',\n",
       "       'protected area', 'airline', 'Observatory', 'comic strip',\n",
       "       'Military Conflict', 'nobility', 'royalty', 'television', 'Judge',\n",
       "       'Olympic event', 'automobile', 'military installation', 'coin',\n",
       "       'school district', 'President', 'shopping mall', 'prison',\n",
       "       'Australian road', 'cyclist', 'news event', 'Family',\n",
       "       'file format', 'dam', 'Sports rivalry', 'athletics race',\n",
       "       'F1 driver', 'Playboy Playmate', 'road', 'comic book title',\n",
       "       'University', 'cheese', 'cycling path', 'station', 'award',\n",
       "       'sports announcer', 'Cheese', 'flag', 'given name',\n",
       "       'snooker player', 'UK legislation', 'musical', 'sportsperson',\n",
       "       'militant organization', 'magazine', 'country', 'School',\n",
       "       'UK school', 'meteorite subdivision', 'artwork', 'Mobile phone',\n",
       "       'economist', 'official post', 'ski area', 'television channel',\n",
       "       'rugby league international tournament', 'court case',\n",
       "       'Monstertruck', 'number', 'publisher', 'Company',\n",
       "       'Future Infrastructure Project', 'racing driver',\n",
       "       'comics meta series', 'diocese', 'table tennis player',\n",
       "       'gridiron football person', 'NFL biography', 'Hurricane',\n",
       "       'football club', 'station/Header SMS', 'Portuguese subdivision',\n",
       "       'motorsport championship', 'exchange', 'politician', 'Exchange',\n",
       "       'stadium', 'Band', 'Greek Dimos', 'Software', 'Organization',\n",
       "       'brand', 'Bridge', 'architect', 'speed skater', 'Scottish island',\n",
       "       'rail', 'Airline', 'rugby league club', 'camera', 'hotel',\n",
       "       'frazione', 'boxer', 'Governor General', 'squash player', 'SSSI',\n",
       "       'golf tournament', 'recurring event', 'chef', 'Film Festival',\n",
       "       'animanga/Header', 'Treaty', 'football tournament', 'saint',\n",
       "       'religious building', 'amusement park', 'ship begin', 'Radio Show',\n",
       "       'Cemetery', 'State Senator', 'GB station', 'zoo', 'ethnic group',\n",
       "       'poem', 'Radio show', 'NBA biography', 'religious biography',\n",
       "       'actor', 'event', 'Russian town', 'First Lady', 'anatomy',\n",
       "       'college football player', 'CFL biography', 'Motorcycle',\n",
       "       'former country', 'VG series', 'MLA', 'diagnostic',\n",
       "       'government agency', 'broadcasting network', 'connector',\n",
       "       'former subdivision', 'journal', 'aircraft begin', 'language',\n",
       "       'comics species', 'mineral', 'bilateral relations', 'storm',\n",
       "       'Guitar model', 'road junction', 'rugby biography', 'Train',\n",
       "       'Romanian subdivision', 'musical composition', 'drug', 'rail line',\n",
       "       'record label', 'UK Bus', 'Archbishop', 'cattle breed',\n",
       "       'constituency', 'State Representative', 'bone', 'library',\n",
       "       'legislature', 'Wrestling promotion', 'crater data', 'judge',\n",
       "       'flood', 'Toy', 'Chinese', 'NHS organisation',\n",
       "       'medical intervention', 'central bank', 'concentration camp',\n",
       "       'game', '', 'Politician', 'person/Wikidata', 'Dogbreed 2',\n",
       "       'Grappling hold', 'casino', 'racehorse', 'residential college',\n",
       "       'play', 'military operation', 'audio drama', 'face-uniform tiling',\n",
       "       'Ambassador', 'campground', 'Premier',\n",
       "       'feature on celestial object', 'CFL player', 'Congressperson',\n",
       "       'theatre', 'pipeline', 'fashion designer', 'canal', 'law firm',\n",
       "       'surname', 'brain', 'senator', 'instrument', 'Government agency',\n",
       "       'Christian denomination', 'language family', 'Mayor', 'Bishop',\n",
       "       'time zone', 'motorcycle rider', 'model rail scale', 'museum',\n",
       "       'Kibbutz', 'church', 'song contest country', 'U.S. legislation',\n",
       "       'model', 'Rugby football league challenge cup', 'Political Party',\n",
       "       'book series', 'Magazine', 'martial artist', 'card game',\n",
       "       'interventions', 'international handball competition',\n",
       "       'subdivision type', 'sport horse', 'anthem', 'Painting',\n",
       "       'mountain pass', 'pro wrestling championship', 'lottery', 'Person',\n",
       "       'rugby league football competition', 'Internet exchange point',\n",
       "       'sports rivalry', 'information appliance', 'UK constituency main',\n",
       "       'Ice Hockey Player', 'comics character and title',\n",
       "       'UK constituency', 'religious group', 'named horse',\n",
       "       'comics team and title', 'prime ministerial spouse',\n",
       "       'military rank', 'Simpsons episode', 'UK Racecourse',\n",
       "       'historic site', 'Coptic Pope', 'engineer', 'Prime Minister',\n",
       "       'planet', 'holiday', 'public transit', 'dog breed',\n",
       "       'prime minister', 'supercomputer', 'bus line', 'terrorist attack',\n",
       "       'Theatre', 'Artwork', 'Cape Verde settlement', 'college coach',\n",
       "       'Beverage', 'Hindu leader', 'oilfield', 'Public transit',\n",
       "       'Fraternity', 'ligament', 'Bus transit', 'wrestling team',\n",
       "       'computer virus', 'port', 'national sports federations', 'mayor',\n",
       "       'Australian Electorate', 'music genre', 'thoroughbred racehorse',\n",
       "       'martial art', 'national football team', 'Bilateral relations',\n",
       "       'military structure', 'Israel municipality', 'Military Structure',\n",
       "       'historic building', 'programming block', 'dancer',\n",
       "       'character encoding', 'laboratory equipment', 'royal house',\n",
       "       'author', 'lighthouse', 'Settlement', 'sport overview',\n",
       "       'microanatomy', 'academic', 'Minor League Baseball', 'swimmer',\n",
       "       'given name2', 'comics nationality', 'spaceflight',\n",
       "       'Protected area', 'former monarchy', 'U.S. federal court',\n",
       "       'Sport governing body', 'Journal', 'high court',\n",
       "       'UK disused station', 'attraction', 'chess player', 'Musical',\n",
       "       'Diplomatic Mission', 'athletic conference', 'motor race',\n",
       "       'sailboat specifications', 'hurricane season', 'monarch',\n",
       "       'sports league', 'presenter', 'Airport', 'Australian electorate',\n",
       "       'national field hockey team', 'Figure Skating Competition',\n",
       "       'CanadianMP', 'horseraces', 'opera', 'scholar',\n",
       "       'Australian government', 'martial art group'], dtype=object)"
      ]
     },
     "execution_count": 21,
     "metadata": {},
     "output_type": "execute_result"
    }
   ],
   "source": [
    "df[1].unique()"
   ]
  },
  {
   "cell_type": "code",
   "execution_count": 22,
   "metadata": {
    "scrolled": true
   },
   "outputs": [
    {
     "data": {
      "text/plain": [
       "person                  284\n",
       "settlement              255\n",
       "album                   192\n",
       "airport                 153\n",
       "football biography      148\n",
       "                       ... \n",
       "Public transit            1\n",
       "Congressperson            1\n",
       "cattle breed              1\n",
       "Monstertruck              1\n",
       "laboratory equipment      1\n",
       "Name: 1, Length: 444, dtype: int64"
      ]
     },
     "execution_count": 22,
     "metadata": {},
     "output_type": "execute_result"
    }
   ],
   "source": [
    "df[1].value_counts()"
   ]
  }
 ],
 "metadata": {
  "kernelspec": {
   "display_name": "Python 3",
   "language": "python",
   "name": "python3"
  },
  "language_info": {
   "codemirror_mode": {
    "name": "ipython",
    "version": 3
   },
   "file_extension": ".py",
   "mimetype": "text/x-python",
   "name": "python",
   "nbconvert_exporter": "python",
   "pygments_lexer": "ipython3",
   "version": "3.8.3"
  }
 },
 "nbformat": 4,
 "nbformat_minor": 4
}
